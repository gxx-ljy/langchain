{
 "cells": [
  {
   "cell_type": "markdown",
   "id": "b486184d-4629-4e96-bfdb-d394448dfd6b",
   "metadata": {},
   "source": [
    "参考https://github.com/THUDM/ChatGLM-6B/blob/main/web_demo.py"
   ]
  },
  {
   "cell_type": "code",
   "execution_count": null,
   "id": "adaea635-dba3-40e5-9f2d-c8e4fda0c5ba",
   "metadata": {},
   "outputs": [],
   "source": [
    "from transformers import AutoModel, AutoTokenizer\n",
    "import gradio as gr\n",
    "import mdtex2html\n",
    "\n",
    "tokenizer = AutoTokenizer.from_pretrained(\"../../model/chatglm2-6b\", trust_remote_code=True, local_files_only=True)\n",
    "model = AutoModel.from_pretrained(\"../../model/chatglm2-6b\", trust_remote_code=True, local_files_only=True).half().quantize(4).cuda()\n",
    "model = model.eval()\n",
    "\n",
    "from langchain.embeddings.huggingface import HuggingFaceEmbeddings\n",
    "from langchain.vectorstores import Milvus\n",
    "\n",
    "vector_db = Milvus(\n",
    "    embedding_function = HuggingFaceEmbeddings(model_name=\"../../model/m3e-base\"),\n",
    "    connection_args={\"host\": \"127.0.0.1\", \"port\": \"19530\"},\n",
    "    collection_name=\"qa1\",\n",
    ")"
   ]
  },
  {
   "cell_type": "code",
   "execution_count": 7,
   "id": "6e68690b-d0c0-40cb-a7d9-262218077a31",
   "metadata": {
    "execution": {
     "iopub.execute_input": "2023-12-04T23:54:46.279758Z",
     "iopub.status.busy": "2023-12-04T23:54:46.278433Z",
     "iopub.status.idle": "2023-12-04T23:54:46.682575Z",
     "shell.execute_reply": "2023-12-04T23:54:46.680030Z",
     "shell.execute_reply.started": "2023-12-04T23:54:46.279758Z"
    },
    "tags": []
   },
   "outputs": [
    {
     "name": "stderr",
     "output_type": "stream",
     "text": [
      "C:\\Users\\gxx_l\\AppData\\Local\\Temp\\ipykernel_19644\\1124046574.py:87: GradioDeprecationWarning: The `style` method is deprecated. Please set these arguments in the constructor instead.\n",
      "  user_input = gr.Textbox(show_label=False, placeholder=\"Input...\", lines=10).style(\n"
     ]
    },
    {
     "name": "stdout",
     "output_type": "stream",
     "text": [
      "Running on local URL:  http://127.0.0.1:7860\n",
      "\n",
      "To create a public link, set `share=True` in `launch()`.\n"
     ]
    },
    {
     "data": {
      "text/html": [
       "<div><iframe src=\"http://127.0.0.1:7860/\" width=\"100%\" height=\"500\" allow=\"autoplay; camera; microphone; clipboard-read; clipboard-write;\" frameborder=\"0\" allowfullscreen></iframe></div>"
      ],
      "text/plain": [
       "<IPython.core.display.HTML object>"
      ]
     },
     "metadata": {},
     "output_type": "display_data"
    },
    {
     "data": {
      "text/plain": []
     },
     "execution_count": 7,
     "metadata": {},
     "output_type": "execute_result"
    }
   ],
   "source": [
    "\n",
    "\n",
    "\"\"\"Override Chatbot.postprocess\"\"\"\n",
    "\n",
    "# 重写Chatbot.postprocess方法，用于处理输出结果\n",
    "def postprocess(self, y):\n",
    "    if y is None:\n",
    "        return []\n",
    "    for i, (message, response) in enumerate(y):\n",
    "        y[i] = (\n",
    "            None if message is None else mdtex2html.convert((message)),\n",
    "            None if response is None else mdtex2html.convert(response),\n",
    "        )\n",
    "    return y\n",
    "\n",
    "\n",
    "gr.Chatbot.postprocess = postprocess\n",
    "\n",
    "\n",
    "\n",
    "# 定义一个函数，用于解析文本中的代码块\n",
    "def parse_text(text):\n",
    "    docs = vector_db.similarity_search(text, k=3)\n",
    "    q = '''使用以下内容回答最后的问题。如果你不知道答案，就说你不知道，不要试图编造答案。在回答的最后一定要说\"感谢您的提问！\"\n",
    "    {context}\n",
    "    问题：{query}\n",
    "    有用的回答： \n",
    "    '''.format(context=docs, query=text)\n",
    "    return q\n",
    "\n",
    "\n",
    "# def parse_text(text):\n",
    "#     \"\"\"copy from https://github.com/GaiZhenbiao/ChuanhuChatGPT/\"\"\"\n",
    "#     lines = text.split(\"\\n\")\n",
    "#     lines = [line for line in lines if line != \"\"]\n",
    "#     count = 0\n",
    "#     for i, line in enumerate(lines):\n",
    "#         if \"```\" in line:\n",
    "#             count += 1\n",
    "#             items = line.split('`')\n",
    "#             if count % 2 == 1:\n",
    "#                 lines[i] = f'<pre><code class=\"language-{items[-1]}\">'\n",
    "#             else:\n",
    "#                 lines[i] = f'<br></code></pre>'\n",
    "#         else:\n",
    "#             if i > 0:\n",
    "#                 if count % 2 == 1:\n",
    "#                     line = line.replace(\"`\", \"\\`\")\n",
    "#                     line = line.replace(\"<\", \"&lt;\")\n",
    "#                     line = line.replace(\">\", \"&gt;\")\n",
    "#                     line = line.replace(\" \", \"&nbsp;\")\n",
    "#                     line = line.replace(\"*\", \"&ast;\")\n",
    "#                     line = line.replace(\"_\", \"&lowbar;\")\n",
    "#                     line = line.replace(\"-\", \"&#45;\")\n",
    "#                     line = line.replace(\".\", \"&#46;\")\n",
    "#                     line = line.replace(\"!\", \"&#33;\")\n",
    "#                     line = line.replace(\"(\", \"&#40;\")\n",
    "#                     line = line.replace(\")\", \"&#41;\")\n",
    "#                     line = line.replace(\"$\", \"&#36;\")\n",
    "#                 lines[i] = \"<br>\"+line\n",
    "#     text = \"\".join(lines)\n",
    "#     return text\n",
    "\n",
    "# 定义一个函数，用于预测输入并返回聊天记录和历史对话\n",
    "def predict(input, chatbot, max_length, top_p, temperature, history):\n",
    "    chatbot.append((parse_text(input), \"\"))\n",
    "    for response, history in model.stream_chat(tokenizer, parse_text(input), history, max_length=max_length, top_p=top_p,\n",
    "                                               temperature=temperature):\n",
    "        chatbot[-1] = (input, response)\n",
    "        yield chatbot, history\n",
    "\n",
    "# 定义一个函数，用于清除用户输入\n",
    "def reset_user_input():\n",
    "    return gr.update(value='')\n",
    "\n",
    "# 定义一个函数，用于清空历史对话\n",
    "def reset_state():\n",
    "    return [], []\n",
    "\n",
    "# 使用gradio创建一个界面\n",
    "with gr.Blocks() as demo:\n",
    "    gr.HTML(\"\"\"<h1 align=\"center\">ChatGLM</h1>\"\"\")\n",
    "\n",
    "    # 创建一个聊天框\n",
    "    chatbot = gr.Chatbot()\n",
    "    with gr.Row():\n",
    "        with gr.Column(scale=4):\n",
    "            with gr.Column(scale=12):\n",
    "                user_input = gr.Textbox(show_label=False, placeholder=\"Input...\", lines=10).style(\n",
    "                    container=False)\n",
    "            with gr.Column(min_width=32, scale=1):\n",
    "                submitBtn = gr.Button(\"Submit\", variant=\"primary\")\n",
    "        with gr.Column(scale=1):\n",
    "            emptyBtn = gr.Button(\"Clear History\")\n",
    "            max_length = gr.Slider(0, 4096, value=2048, step=1.0, label=\"Maximum length\", interactive=True)\n",
    "            top_p = gr.Slider(0, 1, value=0.7, step=0.01, label=\"Top P\", interactive=True)\n",
    "            temperature = gr.Slider(0, 1, value=0.95, step=0.01, label=\"Temperature\", interactive=True)\n",
    "\n",
    "    # 创建一个保存历史对话的状态对象\n",
    "    history = gr.State([])\n",
    "\n",
    "    # 给提交按钮添加点击事件\n",
    "    submitBtn.click(predict, [user_input, chatbot, max_length, top_p, temperature, history], [chatbot, history],\n",
    "                    show_progress=True)\n",
    "    submitBtn.click(reset_user_input, [], [user_input])\n",
    "\n",
    "    # 给清空按钮添加点击事件\n",
    "    emptyBtn.click(reset_state, outputs=[chatbot, history], show_progress=True)\n",
    "\n",
    "# 启动应用\n",
    "demo.queue().launch(share=False, inbrowser=True)\n"
   ]
  },
  {
   "cell_type": "code",
   "execution_count": 6,
   "id": "5b751d06-73de-4d50-a956-93aac6aea8ba",
   "metadata": {
    "execution": {
     "iopub.execute_input": "2023-12-04T23:54:43.544341Z",
     "iopub.status.busy": "2023-12-04T23:54:43.544341Z",
     "iopub.status.idle": "2023-12-04T23:54:43.751618Z",
     "shell.execute_reply": "2023-12-04T23:54:43.751618Z",
     "shell.execute_reply.started": "2023-12-04T23:54:43.544341Z"
    },
    "tags": []
   },
   "outputs": [
    {
     "name": "stdout",
     "output_type": "stream",
     "text": [
      "Closing server running on port: 7860\n"
     ]
    }
   ],
   "source": [
    "demo.close()"
   ]
  },
  {
   "cell_type": "code",
   "execution_count": null,
   "id": "27949be9-a34c-4b37-af5a-f5b4b7cdd041",
   "metadata": {},
   "outputs": [],
   "source": []
  }
 ],
 "metadata": {
  "kernelspec": {
   "display_name": "chat-env",
   "language": "python",
   "name": "chat-env"
  },
  "language_info": {
   "codemirror_mode": {
    "name": "ipython",
    "version": 3
   },
   "file_extension": ".py",
   "mimetype": "text/x-python",
   "name": "python",
   "nbconvert_exporter": "python",
   "pygments_lexer": "ipython3",
   "version": "3.10.13"
  }
 },
 "nbformat": 4,
 "nbformat_minor": 5
}
