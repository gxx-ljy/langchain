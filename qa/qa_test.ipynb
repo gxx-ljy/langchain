{
 "cells": [
  {
   "cell_type": "markdown",
   "id": "80adb42d-cb6a-4e20-888f-3a5846d924c7",
   "metadata": {},
   "source": [
    "# 把数据插入数据库"
   ]
  },
  {
   "cell_type": "code",
   "execution_count": 1,
   "id": "af5512f2-e3d2-4e09-8602-0903be5abff1",
   "metadata": {
    "collapsed": true,
    "execution": {
     "iopub.execute_input": "2023-12-02T03:18:51.397307Z",
     "iopub.status.busy": "2023-12-02T03:18:51.397307Z",
     "iopub.status.idle": "2023-12-02T03:18:57.590056Z",
     "shell.execute_reply": "2023-12-02T03:18:57.589175Z",
     "shell.execute_reply.started": "2023-12-02T03:18:51.397307Z"
    },
    "jupyter": {
     "outputs_hidden": true
    },
    "tags": []
   },
   "outputs": [
    {
     "data": {
      "text/plain": [
       "[Document(page_content='财务\\n\\n财务常见问题及解决\\n\\n1、厂区内出差客房入住申请单在哪里填写？\\n\\nOA工作台——流程管理——新建流程——搜索客房入住申请单\\n\\n2、对公付款（OA）在哪里填写付款申请书？\\n\\nOA工作台——报销管理——新建流程——搜索电动汽车：\\n\\n报销付款选择电动汽车电池的付款申请书；\\n\\n每个月绑定公司银行卡自动扣款的，待回票后要提交销账单流程，其他的都要选择付款申请书；\\n\\n注：（惠州动力新能源公司需走单独的惠州动力新能源付款申请书和销账单）\\n\\n3、对公付款（OA）需要什么附件？\\n\\n对公付款需要上传双方盖章版合同、盖章版对账单（若核对内容较多，请同时上传EXCEL版对账单）、发票扫描件、特殊报销需提供请示等附件。\\n\\n4、对公付款（OA）上传发票注意事项是什么？\\n\\n正确填写“是否取得发票”，如果未取得发票，请选择：否；收到发票后则点击：拟制人提供发票，并把发票上传，同时在发票右上角写上报销单号，打印面单粘贴好拿到财务室，待财务审核发票无误之后结束流程；费用类型对应的“归属成本中心”，需准确到二级部门，不能直接选公司名称的成本中心。\\n\\n\\n\\n增值税专用发票，在费用类型增加“税金”这个科目；（税金金额对应发票上的“税额”金额）。\\n\\n5、对公付款（OA）附件打印与粘贴注意事项是什么？\\n\\n打印报销单封面，并把上传的附件打印出来。封面放在最上面，附件在面单后面用胶水粘贴在右上角，将面单和封面一起粘贴好，不可以用订书机装订；\\n\\n增值税专用发票红色发票（第三联）需要粘贴在报销单后面作为附件，绿色抵扣联不需要粘贴，需要写上报销单号并用回形针夹在封面即可；如果取得增值税电子专用发票，则需要打印两份，一份粘贴在报销单后面，一份用回形针夹在封面；\\n\\n6、OA流程到了经办会计，却迟迟没有审核单据是什么原因？\\n\\n请先核实是否有提交纸质资料给经办会计且经办会计已收到纸质资料；\\n\\n未提交纸质单——请及时提交；\\n\\n有提交纸质单——可与经办会计联系核实原因；\\n\\n7、对公付款（OA）报销流程是什么？\\n\\nOA系统提交对应单据，操作步骤详见《对公付款（OA）操作流程》；\\n\\n第一次交单：流程到“经办会计”时，打印粘贴单，提交对应纸质资料和发票等附件给经办会计；\\n\\n第二次打印单据：报销人自行跟进，流程到“出纳”时，打印报销单封面给经办会计（即流程到出纳的审批流节点）；\\n\\n经办会计收到“报销单”后，做付款交接表给出纳付款；\\n\\n报销流程结束。\\n\\n8、对公付款（OA）付款时间是什么时候？\\n\\n每周二、四付款，月底三个工作日不付款（除非特别紧急的付款单据）\\n\\n9、为什么我的OA单据到了出纳一直没有付款？\\n\\nOA单据到了出纳，要进行第二次打印完整的流程，即：打印流程节点到出纳的报销单封面，到经办会计这边找到第一次交的单据，粘贴在最上面，经办会计才可以做台账交接给出纳付款。\\n\\n10、每刻报销的报销流程是什么？\\n\\n提单人线上提交单据，操作步骤详见《私人报销（每刻）操作流程》；\\n\\n线上流程到达“签收节点”，打印纸质单据交到财务室扫码签收；\\n\\n经办会计审核；\\n\\n线上流程到达出纳，出纳付款；\\n\\n流程结束。\\n\\n11、每刻报销该怎么操作？\\n\\n出差前需要创建出差申请单，预估各项消费金额，如果出差申请单忘记预估金额，则需要补上一张费用申请单并关联；出差中需要在手机企业微信的每刻报销，智能识票拍照，记录每一笔费用，并在我的发票验真并生成费用；出差后把生成的费用创建差旅报销单进行报销。\\n\\n12、一个出差单可以关联多个申请单吗？\\n\\n一个差旅报销单可以关联多个出差申请单和费用申请单。\\n\\n13、没有项目代码的该选哪个？\\n\\n费用申请时填写了项目的，报销时电动汽车项目也应选对应的项目，没有项目代码的选择：公共平台。\\n\\n14、有费用报销单跟差旅报销单，我该选择哪个单据？\\n\\n出差报销选择差旅报销单；个人垫付买东西，需选择费用报销单；\\n\\n如果出差申请单没有预估消费，出差回来后需要补一张费用申请单；\\n\\n报销时需关联出差申请单/费用申请单。\\n\\n15、我的部门预算不足了，可以选择别的部门的预算吗？\\n\\n只可以选择自己部门的预算，不可以跨部门使用。\\n\\n16、显示没有预算怎么办？\\n\\n预算不足的，则需要在OA工作台-流程管理-新建流程-搜索预算外支出，填写预算外支出申请单；同个二级部门的，可以申请预算调整，在OA工作台-流程管理-新建流程-搜索预算调整，填写预算调整申请单。\\n\\n17、费用承担部门和预算部门不一致怎么办？\\n\\n\\n\\n报销单的费用承担部门与费用申请单预算部门要保持，有项目代码的，报销单项目代码要与预算申请单的项目代码保持一致；\\n\\n18、报销单超时，无法提交单据怎么办？\\n\\n出差后两个月内完成线上提单与线下提交纸质单的操作；超时的话系统无法提交单据，需写请示方可报销: 在OA——公文管理——请示，请示会签到部门总经理和财务经理；再提IT申报，IT看到请示通过才打开提交权限；\\n\\n19、私车公用怎么添加里程？\\n\\n私车公用需要在手机企业微信，里程费用点击开启定位，定位结束后点击生成费用，再从我的费用创建私车公用补贴单-集团共用；如果是已经创建了单据，那就点击选取费用，把带里程信息的费用选取进来；如果没有开启每刻定位的话请上传高德定位带有公里数的信息截图，补贴标准为1.9元/公里。\\n\\n20、私车公用忘记定位打卡怎么办？\\n\\n如果没有开启每刻定位的话请上传高德定位带有公里数的信息截图。\\n\\n21、住宿费没有开增值税专用发票可以报销吗？\\n\\n住宿费增值税专用发票税额可以抵扣，优先取得增值税专用发票，取得住宿费普通发票，发票税金需要报销人承担；\\n\\n22、每刻报销的发票怎么粘贴？\\n\\n增值税专用发票第三联（红色）发票联需要粘贴在报销单后面作为附件，第二联（绿色）抵扣联不需要粘贴，需要在发票右上角空白处写上报销单号并用回形针夹在报销单封面；如果取得增值税电子专用发票，则需要打印两份，一份粘贴在报销单后面，一份用回形针夹在封面。\\n\\n23、每刻报销的付款时间是什么时候？\\n\\n每刻报销，每周二、四付款，月底三个工作日不付款（除非特别紧急的付款单据）。\\n\\n24、每刻报销一直没收到钱是怎么回事？\\n\\n如果系统显示已完成，可是没收到钱，则要检查自己的银行卡是不是填错，如果银行卡填错的话需要在每刻系统修改并且把正确的开户行、银行卡号邮件发给对应的会计和出纳。\\n\\n\\n\\n25、滴滴打车需要上传行程单吗？\\n\\n滴滴打车需要把发票和行程单一起上传并打印出来。\\n\\n26、高铁票、火车票丢了，可以用复印件吗？\\n\\n高铁票、火车票原件丢了不可以报销，需要把原件粘贴在报销单后面。\\n\\n27、飞机票需要打印什么东西？\\n\\n机票需要打印电子客票行程单粘贴在报销单后作为报销依据；（若为第三方代订机票，可以向第三方供应商申请开具相应发票。若在美亚平台预定机票或酒店等，则由公司统一结算，员工不可自行报销该费用。）\\n\\n28、业务招待费需要什么附件？\\n\\n业务招待费需要上传并打印支付记录或者点餐记录。\\n\\n29、酒店住宿需要什么附件？\\n\\n住宿费需要上传发票和住宿账单\\n\\n30、部门经费标准是什么？\\n\\n日常的部门经费是人力资源发布的标准，每个月固定金额，特殊的部门经费则需要写请示并上传。\\n\\n31、出差发生的核酸检测可以报销吗？\\n\\n核酸检测报销需要提供门诊收费的票据或者公司抬头的发票，费用类型选择：福利体检。\\n\\n32、出差时间大于30天，我该怎么报销伙食补贴？\\n\\n出差超过30天，费用类型选择：长期出差补贴；补贴标准参照公司差旅报销标准。\\n\\n33、发票显示没办法验真该怎么办？\\n\\n发票每一条都要上传并验真，无法验真是国税局端口出现问题，建议稍后再操作或联系IT核查。\\n\\n34、公文请示在哪里写？\\n\\n在OA——公文管理——请示，请示会签到哪里，具体参考财务权限审批表。\\n\\n35、费用报销超时，显示无法提交单据怎么办？\\n\\n目前公司的报销制度规定，出差结束后两个月内必须完成线上提交与线下打印纸质单提交到财务处扫描签收。如果超时则无法提交，需要写请示，会签到会计与财务经理，然后提交IT申报，IT查验领导同意的请示后，打开相应的权限，方可提交。\\n\\n36、我的每刻报销单据显示在签收节点是怎么回事？\\n\\n签收节点，需要把纸质单据打印出来，贴好附件后，拿到光明财务室扫码签收，就签收后才会到经办会计审核。\\n\\n37、开公司的车出差，需要选择哪个费用类型报销？\\n\\n借用公司车辆，需要选择对应的公司车辆加油费、停车费等带有公司车辆字眼的费用类型，不可以用私车公用补贴，并且要选择对应的车牌号。\\n\\n38、原来的单子被经办会计驳回了，我把它作废后，需要重新打印新的报销单交过来财务办公室吗？\\n\\n旧的单子作废了，可是发票那些还在经办会计手上，需要报销人到驳回对应单据的费用会计处拿回发票等附件，将新的报销面单打印粘贴好发票附件，拿到财务室签收，重新审批。\\n\\n39、私车公用补贴需要单独提单吗？\\n\\n私车公用补贴需要单独提一张单子，部门总经理审核通过后由人资发放工资，选择：私车公用补贴单，过路费、高速费等其他费用依旧用差旅报销单。\\n\\n40、我的伙食补贴被扣减了，这是什么原因？\\n\\n在出差申请单的时候选了：有伙食，则系统会扣减；出差单应该选择：无伙食。\\n\\n超过30天的出差，选了伙食补贴，则系统也会扣减，正确的操作是在申请单的时候选择：长期出差补贴这个费用类型。', metadata={'source': '员工报销问题自助手册.docx'})]"
      ]
     },
     "execution_count": 1,
     "metadata": {},
     "output_type": "execute_result"
    }
   ],
   "source": [
    "from langchain.document_loaders import UnstructuredWordDocumentLoader\n",
    "\n",
    "loader = UnstructuredWordDocumentLoader(\"员工报销问题自助手册.docx\")\n",
    "documents = loader.load()\n",
    "documents"
   ]
  },
  {
   "cell_type": "code",
   "execution_count": 2,
   "id": "6c80e09a-856c-40b4-b191-e153a0539600",
   "metadata": {
    "collapsed": true,
    "execution": {
     "iopub.execute_input": "2023-12-02T03:19:03.818341Z",
     "iopub.status.busy": "2023-12-02T03:19:03.818115Z",
     "iopub.status.idle": "2023-12-02T03:19:03.825174Z",
     "shell.execute_reply": "2023-12-02T03:19:03.824951Z",
     "shell.execute_reply.started": "2023-12-02T03:19:03.818341Z"
    },
    "jupyter": {
     "outputs_hidden": true
    },
    "tags": []
   },
   "outputs": [
    {
     "data": {
      "text/plain": [
       "[Document(page_content='财务\\n\\n财务常见问题及解决\\n\\n1、厂区内出差客房入住申请单在哪里填写？\\n\\nOA工作台——流程管理——新建流程——搜索客房入住申请单\\n\\n2、对公付款（OA）在哪里填写付款申请书？\\n\\nOA工作台——报销管理——新建流程——搜索电动汽车：\\n\\n报销付款选择电动汽车电池的付款申请书；\\n\\n每个月绑定公司银行卡自动扣款的，待回票后要提交销账单流程，其他的都要选择付款申请书；', metadata={'source': '员工报销问题自助手册.docx'}),\n",
       " Document(page_content='每个月绑定公司银行卡自动扣款的，待回票后要提交销账单流程，其他的都要选择付款申请书；\\n\\n注：（惠州动力新能源公司需走单独的惠州动力新能源付款申请书和销账单）\\n\\n3、对公付款（OA）需要什么附件？\\n\\n对公付款需要上传双方盖章版合同、盖章版对账单（若核对内容较多，请同时上传EXCEL版对账单）、发票扫描件、特殊报销需提供请示等附件。\\n\\n4、对公付款（OA）上传发票注意事项是什么？', metadata={'source': '员工报销问题自助手册.docx'}),\n",
       " Document(page_content='4、对公付款（OA）上传发票注意事项是什么？\\n\\n正确填写“是否取得发票”，如果未取得发票，请选择：否；收到发票后则点击：拟制人提供发票，并把发票上传，同时在发票右上角写上报销单号，打印面单粘贴好拿到财务室，待财务审核发票无误之后结束流程；费用类型对应的“归属成本中心”，需准确到二级部门，不能直接选公司名称的成本中心。', metadata={'source': '员工报销问题自助手册.docx'}),\n",
       " Document(page_content='增值税专用发票，在费用类型增加“税金”这个科目；（税金金额对应发票上的“税额”金额）。\\n\\n5、对公付款（OA）附件打印与粘贴注意事项是什么？\\n\\n打印报销单封面，并把上传的附件打印出来。封面放在最上面，附件在面单后面用胶水粘贴在右上角，将面单和封面一起粘贴好，不可以用订书机装订；', metadata={'source': '员工报销问题自助手册.docx'}),\n",
       " Document(page_content='增值税专用发票红色发票（第三联）需要粘贴在报销单后面作为附件，绿色抵扣联不需要粘贴，需要写上报销单号并用回形针夹在封面即可；如果取得增值税电子专用发票，则需要打印两份，一份粘贴在报销单后面，一份用回形针夹在封面；\\n\\n6、OA流程到了经办会计，却迟迟没有审核单据是什么原因？\\n\\n请先核实是否有提交纸质资料给经办会计且经办会计已收到纸质资料；\\n\\n未提交纸质单——请及时提交；', metadata={'source': '员工报销问题自助手册.docx'}),\n",
       " Document(page_content='请先核实是否有提交纸质资料给经办会计且经办会计已收到纸质资料；\\n\\n未提交纸质单——请及时提交；\\n\\n有提交纸质单——可与经办会计联系核实原因；\\n\\n7、对公付款（OA）报销流程是什么？\\n\\nOA系统提交对应单据，操作步骤详见《对公付款（OA）操作流程》；\\n\\n第一次交单：流程到“经办会计”时，打印粘贴单，提交对应纸质资料和发票等附件给经办会计；', metadata={'source': '员工报销问题自助手册.docx'}),\n",
       " Document(page_content='第一次交单：流程到“经办会计”时，打印粘贴单，提交对应纸质资料和发票等附件给经办会计；\\n\\n第二次打印单据：报销人自行跟进，流程到“出纳”时，打印报销单封面给经办会计（即流程到出纳的审批流节点）；\\n\\n经办会计收到“报销单”后，做付款交接表给出纳付款；\\n\\n报销流程结束。\\n\\n8、对公付款（OA）付款时间是什么时候？\\n\\n每周二、四付款，月底三个工作日不付款（除非特别紧急的付款单据）', metadata={'source': '员工报销问题自助手册.docx'}),\n",
       " Document(page_content='每周二、四付款，月底三个工作日不付款（除非特别紧急的付款单据）\\n\\n9、为什么我的OA单据到了出纳一直没有付款？\\n\\nOA单据到了出纳，要进行第二次打印完整的流程，即：打印流程节点到出纳的报销单封面，到经办会计这边找到第一次交的单据，粘贴在最上面，经办会计才可以做台账交接给出纳付款。\\n\\n10、每刻报销的报销流程是什么？\\n\\n提单人线上提交单据，操作步骤详见《私人报销（每刻）操作流程》；', metadata={'source': '员工报销问题自助手册.docx'}),\n",
       " Document(page_content='10、每刻报销的报销流程是什么？\\n\\n提单人线上提交单据，操作步骤详见《私人报销（每刻）操作流程》；\\n\\n线上流程到达“签收节点”，打印纸质单据交到财务室扫码签收；\\n\\n经办会计审核；\\n\\n线上流程到达出纳，出纳付款；\\n\\n流程结束。\\n\\n11、每刻报销该怎么操作？', metadata={'source': '员工报销问题自助手册.docx'}),\n",
       " Document(page_content='经办会计审核；\\n\\n线上流程到达出纳，出纳付款；\\n\\n流程结束。\\n\\n11、每刻报销该怎么操作？\\n\\n出差前需要创建出差申请单，预估各项消费金额，如果出差申请单忘记预估金额，则需要补上一张费用申请单并关联；出差中需要在手机企业微信的每刻报销，智能识票拍照，记录每一笔费用，并在我的发票验真并生成费用；出差后把生成的费用创建差旅报销单进行报销。\\n\\n12、一个出差单可以关联多个申请单吗？', metadata={'source': '员工报销问题自助手册.docx'}),\n",
       " Document(page_content='12、一个出差单可以关联多个申请单吗？\\n\\n一个差旅报销单可以关联多个出差申请单和费用申请单。\\n\\n13、没有项目代码的该选哪个？\\n\\n费用申请时填写了项目的，报销时电动汽车项目也应选对应的项目，没有项目代码的选择：公共平台。\\n\\n14、有费用报销单跟差旅报销单，我该选择哪个单据？\\n\\n出差报销选择差旅报销单；个人垫付买东西，需选择费用报销单；\\n\\n如果出差申请单没有预估消费，出差回来后需要补一张费用申请单；', metadata={'source': '员工报销问题自助手册.docx'}),\n",
       " Document(page_content='如果出差申请单没有预估消费，出差回来后需要补一张费用申请单；\\n\\n报销时需关联出差申请单/费用申请单。\\n\\n15、我的部门预算不足了，可以选择别的部门的预算吗？\\n\\n只可以选择自己部门的预算，不可以跨部门使用。\\n\\n16、显示没有预算怎么办？', metadata={'source': '员工报销问题自助手册.docx'}),\n",
       " Document(page_content='只可以选择自己部门的预算，不可以跨部门使用。\\n\\n16、显示没有预算怎么办？\\n\\n预算不足的，则需要在OA工作台-流程管理-新建流程-搜索预算外支出，填写预算外支出申请单；同个二级部门的，可以申请预算调整，在OA工作台-流程管理-新建流程-搜索预算调整，填写预算调整申请单。\\n\\n17、费用承担部门和预算部门不一致怎么办？', metadata={'source': '员工报销问题自助手册.docx'}),\n",
       " Document(page_content='17、费用承担部门和预算部门不一致怎么办？\\n\\n报销单的费用承担部门与费用申请单预算部门要保持，有项目代码的，报销单项目代码要与预算申请单的项目代码保持一致；\\n\\n18、报销单超时，无法提交单据怎么办？', metadata={'source': '员工报销问题自助手册.docx'}),\n",
       " Document(page_content='18、报销单超时，无法提交单据怎么办？\\n\\n出差后两个月内完成线上提单与线下提交纸质单的操作；超时的话系统无法提交单据，需写请示方可报销: 在OA——公文管理——请示，请示会签到部门总经理和财务经理；再提IT申报，IT看到请示通过才打开提交权限；\\n\\n19、私车公用怎么添加里程？', metadata={'source': '员工报销问题自助手册.docx'}),\n",
       " Document(page_content='19、私车公用怎么添加里程？\\n\\n私车公用需要在手机企业微信，里程费用点击开启定位，定位结束后点击生成费用，再从我的费用创建私车公用补贴单-集团共用；如果是已经创建了单据，那就点击选取费用，把带里程信息的费用选取进来；如果没有开启每刻定位的话请上传高德定位带有公里数的信息截图，补贴标准为1.9元/公里。\\n\\n20、私车公用忘记定位打卡怎么办？', metadata={'source': '员工报销问题自助手册.docx'}),\n",
       " Document(page_content='20、私车公用忘记定位打卡怎么办？\\n\\n如果没有开启每刻定位的话请上传高德定位带有公里数的信息截图。\\n\\n21、住宿费没有开增值税专用发票可以报销吗？\\n\\n住宿费增值税专用发票税额可以抵扣，优先取得增值税专用发票，取得住宿费普通发票，发票税金需要报销人承担；\\n\\n22、每刻报销的发票怎么粘贴？', metadata={'source': '员工报销问题自助手册.docx'}),\n",
       " Document(page_content='22、每刻报销的发票怎么粘贴？\\n\\n增值税专用发票第三联（红色）发票联需要粘贴在报销单后面作为附件，第二联（绿色）抵扣联不需要粘贴，需要在发票右上角空白处写上报销单号并用回形针夹在报销单封面；如果取得增值税电子专用发票，则需要打印两份，一份粘贴在报销单后面，一份用回形针夹在封面。\\n\\n23、每刻报销的付款时间是什么时候？\\n\\n每刻报销，每周二、四付款，月底三个工作日不付款（除非特别紧急的付款单据）。', metadata={'source': '员工报销问题自助手册.docx'}),\n",
       " Document(page_content='每刻报销，每周二、四付款，月底三个工作日不付款（除非特别紧急的付款单据）。\\n\\n24、每刻报销一直没收到钱是怎么回事？\\n\\n如果系统显示已完成，可是没收到钱，则要检查自己的银行卡是不是填错，如果银行卡填错的话需要在每刻系统修改并且把正确的开户行、银行卡号邮件发给对应的会计和出纳。\\n\\n25、滴滴打车需要上传行程单吗？\\n\\n滴滴打车需要把发票和行程单一起上传并打印出来。', metadata={'source': '员工报销问题自助手册.docx'}),\n",
       " Document(page_content='25、滴滴打车需要上传行程单吗？\\n\\n滴滴打车需要把发票和行程单一起上传并打印出来。\\n\\n26、高铁票、火车票丢了，可以用复印件吗？\\n\\n高铁票、火车票原件丢了不可以报销，需要把原件粘贴在报销单后面。\\n\\n27、飞机票需要打印什么东西？', metadata={'source': '员工报销问题自助手册.docx'}),\n",
       " Document(page_content='高铁票、火车票原件丢了不可以报销，需要把原件粘贴在报销单后面。\\n\\n27、飞机票需要打印什么东西？\\n\\n机票需要打印电子客票行程单粘贴在报销单后作为报销依据；（若为第三方代订机票，可以向第三方供应商申请开具相应发票。若在美亚平台预定机票或酒店等，则由公司统一结算，员工不可自行报销该费用。）\\n\\n28、业务招待费需要什么附件？\\n\\n业务招待费需要上传并打印支付记录或者点餐记录。', metadata={'source': '员工报销问题自助手册.docx'}),\n",
       " Document(page_content='28、业务招待费需要什么附件？\\n\\n业务招待费需要上传并打印支付记录或者点餐记录。\\n\\n29、酒店住宿需要什么附件？\\n\\n住宿费需要上传发票和住宿账单\\n\\n30、部门经费标准是什么？\\n\\n日常的部门经费是人力资源发布的标准，每个月固定金额，特殊的部门经费则需要写请示并上传。\\n\\n31、出差发生的核酸检测可以报销吗？\\n\\n核酸检测报销需要提供门诊收费的票据或者公司抬头的发票，费用类型选择：福利体检。', metadata={'source': '员工报销问题自助手册.docx'}),\n",
       " Document(page_content='核酸检测报销需要提供门诊收费的票据或者公司抬头的发票，费用类型选择：福利体检。\\n\\n32、出差时间大于30天，我该怎么报销伙食补贴？\\n\\n出差超过30天，费用类型选择：长期出差补贴；补贴标准参照公司差旅报销标准。\\n\\n33、发票显示没办法验真该怎么办？\\n\\n发票每一条都要上传并验真，无法验真是国税局端口出现问题，建议稍后再操作或联系IT核查。\\n\\n34、公文请示在哪里写？', metadata={'source': '员工报销问题自助手册.docx'}),\n",
       " Document(page_content='34、公文请示在哪里写？\\n\\n在OA——公文管理——请示，请示会签到哪里，具体参考财务权限审批表。\\n\\n35、费用报销超时，显示无法提交单据怎么办？\\n\\n目前公司的报销制度规定，出差结束后两个月内必须完成线上提交与线下打印纸质单提交到财务处扫描签收。如果超时则无法提交，需要写请示，会签到会计与财务经理，然后提交IT申报，IT查验领导同意的请示后，打开相应的权限，方可提交。', metadata={'source': '员工报销问题自助手册.docx'}),\n",
       " Document(page_content='36、我的每刻报销单据显示在签收节点是怎么回事？\\n\\n签收节点，需要把纸质单据打印出来，贴好附件后，拿到光明财务室扫码签收，就签收后才会到经办会计审核。\\n\\n37、开公司的车出差，需要选择哪个费用类型报销？\\n\\n借用公司车辆，需要选择对应的公司车辆加油费、停车费等带有公司车辆字眼的费用类型，不可以用私车公用补贴，并且要选择对应的车牌号。', metadata={'source': '员工报销问题自助手册.docx'}),\n",
       " Document(page_content='38、原来的单子被经办会计驳回了，我把它作废后，需要重新打印新的报销单交过来财务办公室吗？\\n\\n旧的单子作废了，可是发票那些还在经办会计手上，需要报销人到驳回对应单据的费用会计处拿回发票等附件，将新的报销面单打印粘贴好发票附件，拿到财务室签收，重新审批。\\n\\n39、私车公用补贴需要单独提单吗？', metadata={'source': '员工报销问题自助手册.docx'}),\n",
       " Document(page_content='39、私车公用补贴需要单独提单吗？\\n\\n私车公用补贴需要单独提一张单子，部门总经理审核通过后由人资发放工资，选择：私车公用补贴单，过路费、高速费等其他费用依旧用差旅报销单。\\n\\n40、我的伙食补贴被扣减了，这是什么原因？\\n\\n在出差申请单的时候选了：有伙食，则系统会扣减；出差单应该选择：无伙食。\\n\\n超过30天的出差，选了伙食补贴，则系统也会扣减，正确的操作是在申请单的时候选择：长期出差补贴这个费用类型。', metadata={'source': '员工报销问题自助手册.docx'})]"
      ]
     },
     "execution_count": 2,
     "metadata": {},
     "output_type": "execute_result"
    }
   ],
   "source": [
    "from langchain.text_splitter import CharacterTextSplitter\n",
    "\n",
    "text_splitter = CharacterTextSplitter(chunk_size=200, chunk_overlap=50)\n",
    "split_docs = text_splitter.split_documents(documents)\n",
    "split_docs"
   ]
  },
  {
   "cell_type": "code",
   "execution_count": 3,
   "id": "35597757-b980-44c8-9025-88fb82c5287f",
   "metadata": {
    "execution": {
     "iopub.execute_input": "2023-12-02T03:19:21.454734Z",
     "iopub.status.busy": "2023-12-02T03:19:21.454734Z",
     "iopub.status.idle": "2023-12-02T03:19:27.643043Z",
     "shell.execute_reply": "2023-12-02T03:19:27.642539Z",
     "shell.execute_reply.started": "2023-12-02T03:19:21.454734Z"
    },
    "tags": []
   },
   "outputs": [],
   "source": [
    "from langchain.embeddings.huggingface import HuggingFaceEmbeddings\n",
    "\n",
    "embedding = HuggingFaceEmbeddings(model_name=\"../../model/m3e-base\")\n"
   ]
  },
  {
   "cell_type": "code",
   "execution_count": 4,
   "id": "81e9bf18-95b5-4731-ae7a-4549a2f14678",
   "metadata": {
    "execution": {
     "iopub.execute_input": "2023-12-02T03:19:27.774127Z",
     "iopub.status.busy": "2023-12-02T03:19:27.774127Z",
     "iopub.status.idle": "2023-12-02T03:19:35.396571Z",
     "shell.execute_reply": "2023-12-02T03:19:35.395736Z",
     "shell.execute_reply.started": "2023-12-02T03:19:27.774127Z"
    },
    "tags": []
   },
   "outputs": [],
   "source": [
    "from langchain.vectorstores import Milvus\n",
    "vector_db = Milvus.from_documents(\n",
    "    split_docs,\n",
    "    embedding,\n",
    "    collection_name=\"qa1\",\n",
    "    connection_args={\"host\": \"127.0.0.1\", \"port\": \"19530\"},\n",
    ")"
   ]
  },
  {
   "cell_type": "markdown",
   "id": "903366d4-e57d-49a6-a9a3-fe0d95ab419f",
   "metadata": {},
   "source": [
    "# 连接已有数据库"
   ]
  },
  {
   "cell_type": "code",
   "execution_count": 6,
   "id": "5172806a-b2d6-4138-ae8a-17cc193bd6dd",
   "metadata": {
    "execution": {
     "iopub.execute_input": "2023-12-02T03:26:55.663221Z",
     "iopub.status.busy": "2023-12-02T03:26:55.663221Z",
     "iopub.status.idle": "2023-12-02T03:26:56.335685Z",
     "shell.execute_reply": "2023-12-02T03:26:56.335335Z",
     "shell.execute_reply.started": "2023-12-02T03:26:55.663221Z"
    },
    "tags": []
   },
   "outputs": [],
   "source": [
    "from langchain.embeddings.huggingface import HuggingFaceEmbeddings\n",
    "from langchain.vectorstores import Milvus\n",
    "\n",
    "vector_db = Milvus(\n",
    "    embedding_function = HuggingFaceEmbeddings(model_name=\"../../model/m3e-base\"),\n",
    "    connection_args={\"host\": \"127.0.0.1\", \"port\": \"19530\"},\n",
    "    collection_name=\"qa1\",\n",
    ")\n"
   ]
  },
  {
   "cell_type": "markdown",
   "id": "51c0d8a7-32c3-4097-9ba0-890b46b86477",
   "metadata": {},
   "source": [
    "# 导入模型"
   ]
  },
  {
   "cell_type": "code",
   "execution_count": 8,
   "id": "c9d05990-7705-4c19-98ee-aa9e9fc7e125",
   "metadata": {
    "execution": {
     "iopub.execute_input": "2023-12-02T03:27:22.336056Z",
     "iopub.status.busy": "2023-12-02T03:27:22.336056Z",
     "iopub.status.idle": "2023-12-02T03:27:46.600433Z",
     "shell.execute_reply": "2023-12-02T03:27:46.599386Z",
     "shell.execute_reply.started": "2023-12-02T03:27:22.336056Z"
    },
    "tags": []
   },
   "outputs": [
    {
     "data": {
      "application/vnd.jupyter.widget-view+json": {
       "model_id": "fd8f087c088e40f888ae6a5672ca2707",
       "version_major": 2,
       "version_minor": 0
      },
      "text/plain": [
       "Loading checkpoint shards:   0%|          | 0/7 [00:00<?, ?it/s]"
      ]
     },
     "metadata": {},
     "output_type": "display_data"
    }
   ],
   "source": [
    "from transformers import AutoModel, AutoTokenizer\n",
    "\n",
    "model_id = '../../model/chatglm2-6b'\n",
    "tokenizer = AutoTokenizer.from_pretrained(model_id, trust_remote_code=True)\n",
    "model = AutoModel.from_pretrained(model_id, trust_remote_code=True).half().quantize(4).cuda()\n",
    "model = model.eval()"
   ]
  },
  {
   "cell_type": "markdown",
   "id": "9311e829-56fb-45b6-862b-864b98604058",
   "metadata": {},
   "source": [
    "# 使用 HuggingFacePipeline 本地搭建大语言模型"
   ]
  },
  {
   "cell_type": "code",
   "execution_count": 12,
   "id": "34fe0f41-a295-408e-a79c-d1a2e0d272d4",
   "metadata": {
    "execution": {
     "iopub.execute_input": "2023-12-02T03:28:39.034892Z",
     "iopub.status.busy": "2023-12-02T03:28:39.034892Z",
     "iopub.status.idle": "2023-12-02T03:28:39.045199Z",
     "shell.execute_reply": "2023-12-02T03:28:39.045199Z",
     "shell.execute_reply.started": "2023-12-02T03:28:39.034892Z"
    },
    "tags": []
   },
   "outputs": [
    {
     "name": "stderr",
     "output_type": "stream",
     "text": [
      "The model 'ChatGLMForConditionalGeneration' is not supported for text2text-generation. Supported models are ['BartForConditionalGeneration', 'BigBirdPegasusForConditionalGeneration', 'BlenderbotForConditionalGeneration', 'BlenderbotSmallForConditionalGeneration', 'EncoderDecoderModel', 'FSMTForConditionalGeneration', 'GPTSanJapaneseForConditionalGeneration', 'LEDForConditionalGeneration', 'LongT5ForConditionalGeneration', 'M2M100ForConditionalGeneration', 'MarianMTModel', 'MBartForConditionalGeneration', 'MT5ForConditionalGeneration', 'MvpForConditionalGeneration', 'NllbMoeForConditionalGeneration', 'PegasusForConditionalGeneration', 'PegasusXForConditionalGeneration', 'PLBartForConditionalGeneration', 'ProphetNetForConditionalGeneration', 'SeamlessM4TForTextToText', 'SwitchTransformersForConditionalGeneration', 'T5ForConditionalGeneration', 'UMT5ForConditionalGeneration', 'XLMProphetNetForConditionalGeneration'].\n"
     ]
    }
   ],
   "source": [
    "from langchain.llms.huggingface_pipeline import HuggingFacePipeline\n",
    "from transformers import pipeline\n",
    "\n",
    "pipe = pipeline(\n",
    "    \"text2text-generation\",\n",
    "    model=model, \n",
    "    tokenizer=tokenizer, \n",
    "    device=0, \n",
    "    max_length=1000\n",
    ")\n",
    "\n",
    "llm = HuggingFacePipeline(pipeline=pipe)"
   ]
  },
  {
   "cell_type": "markdown",
   "id": "11ed74b2-f5c6-4d5b-9911-2010002d7015",
   "metadata": {},
   "source": [
    "# 声明一个检索式问答链"
   ]
  },
  {
   "cell_type": "code",
   "execution_count": 13,
   "id": "34177748-ee17-44df-b49c-72c459dbb0b3",
   "metadata": {
    "execution": {
     "iopub.execute_input": "2023-12-02T03:28:39.959653Z",
     "iopub.status.busy": "2023-12-02T03:28:39.955869Z",
     "iopub.status.idle": "2023-12-02T03:28:39.969239Z",
     "shell.execute_reply": "2023-12-02T03:28:39.968147Z",
     "shell.execute_reply.started": "2023-12-02T03:28:39.959653Z"
    },
    "tags": []
   },
   "outputs": [],
   "source": [
    "from langchain.chains import RetrievalQA\n",
    "\n",
    "qa_chain = RetrievalQA.from_chain_type(\n",
    "    llm,\n",
    "    retriever=vector_db.as_retriever()\n",
    ")"
   ]
  },
  {
   "cell_type": "markdown",
   "id": "b4d4235d-8d7c-4d98-8c00-448d6425484e",
   "metadata": {},
   "source": [
    "# 检索问答"
   ]
  },
  {
   "cell_type": "code",
   "execution_count": 49,
   "id": "81e8ce34-4817-42cf-91de-bd4c3ec2aa49",
   "metadata": {
    "collapsed": true,
    "execution": {
     "iopub.execute_input": "2023-12-02T04:39:40.828128Z",
     "iopub.status.busy": "2023-12-02T04:39:40.827130Z",
     "iopub.status.idle": "2023-12-02T04:39:43.337528Z",
     "shell.execute_reply": "2023-12-02T04:39:43.337401Z",
     "shell.execute_reply.started": "2023-12-02T04:39:40.828128Z"
    },
    "jupyter": {
     "outputs_hidden": true
    },
    "tags": []
   },
   "outputs": [
    {
     "name": "stdout",
     "output_type": "stream",
     "text": [
      "大语言模型的回答为：Use the following pieces of context to answer the question at the end. If you don't know the answer, just say that you don't know, don't try to make up an answer.\n",
      "\n",
      "财务\n",
      "\n",
      "财务常见问题及解决\n",
      "\n",
      "1、厂区内出差客房入住申请单在哪里填写？\n",
      "\n",
      "OA工作台——流程管理——新建流程——搜索客房入住申请单\n",
      "\n",
      "2、对公付款（OA）在哪里填写付款申请书？\n",
      "\n",
      "OA工作台——报销管理——新建流程——搜索电动汽车：\n",
      "\n",
      "报销付款选择电动汽车电池的付款申请书；\n",
      "\n",
      "每个月绑定公司银行卡自动扣款的，待回票后要提交销账单流程，其他的都要选择付款申请书；\n",
      "\n",
      "28、业务招待费需要什么附件？\n",
      "\n",
      "业务招待费需要上传并打印支付记录或者点餐记录。\n",
      "\n",
      "29、酒店住宿需要什么附件？\n",
      "\n",
      "住宿费需要上传发票和住宿账单\n",
      "\n",
      "30、部门经费标准是什么？\n",
      "\n",
      "日常的部门经费是人力资源发布的标准，每个月固定金额，特殊的部门经费则需要写请示并上传。\n",
      "\n",
      "31、出差发生的核酸检测可以报销吗？\n",
      "\n",
      "核酸检测报销需要提供门诊收费的票据或者公司抬头的发票，费用类型选择：福利体检。\n",
      "\n",
      "34、公文请示在哪里写？\n",
      "\n",
      "在OA——公文管理——请示，请示会签到哪里，具体参考财务权限审批表。\n",
      "\n",
      "35、费用报销超时，显示无法提交单据怎么办？\n",
      "\n",
      "目前公司的报销制度规定，出差结束后两个月内必须完成线上提交与线下打印纸质单提交到财务处扫描签收。如果超时则无法提交，需要写请示，会签到会计与财务经理，然后提交IT申报，IT查验领导同意的请示后，打开相应的权限，方可提交。\n",
      "\n",
      "18、报销单超时，无法提交单据怎么办？\n",
      "\n",
      "出差后两个月内完成线上提单与线下提交纸质单的操作；超时的话系统无法提交单据，需写请示方可报销: 在OA——公文管理——请示，请示会签到部门总经理和财务经理；再提IT申报，IT看到请示通过才打开提交权限；\n",
      "\n",
      "19、私车公用怎么添加里程？\n",
      "\n",
      "Question: 厂区内出差客房入住申请单在哪里填写？\n",
      "Helpful Answer: OA工作台——流程管理——新建流程——搜索客房入住申请单\n"
     ]
    }
   ],
   "source": [
    "question = \"厂区内出差客房入住申请单在哪里填写？\"\n",
    "result = qa_chain({\"query\": question})\n",
    "print(f\"大语言模型的回答为：{result['result']}\")"
   ]
  },
  {
   "cell_type": "code",
   "execution_count": 17,
   "id": "261223ca-20eb-4dc2-99db-d740310ecb5a",
   "metadata": {
    "execution": {
     "iopub.execute_input": "2023-12-02T03:31:05.193888Z",
     "iopub.status.busy": "2023-12-02T03:31:05.193888Z",
     "iopub.status.idle": "2023-12-02T03:31:05.204223Z",
     "shell.execute_reply": "2023-12-02T03:31:05.203375Z",
     "shell.execute_reply.started": "2023-12-02T03:31:05.193888Z"
    },
    "tags": []
   },
   "outputs": [
    {
     "data": {
      "text/plain": [
       "str"
      ]
     },
     "execution_count": 17,
     "metadata": {},
     "output_type": "execute_result"
    }
   ],
   "source": [
    "type(result['result'])"
   ]
  },
  {
   "cell_type": "code",
   "execution_count": 51,
   "id": "fc2a9d4c-0995-4b88-b788-20cd02d7f2e6",
   "metadata": {
    "execution": {
     "iopub.execute_input": "2023-12-02T04:40:20.469905Z",
     "iopub.status.busy": "2023-12-02T04:40:20.468906Z",
     "iopub.status.idle": "2023-12-02T04:40:20.478560Z",
     "shell.execute_reply": "2023-12-02T04:40:20.477648Z",
     "shell.execute_reply.started": "2023-12-02T04:40:20.469905Z"
    },
    "tags": []
   },
   "outputs": [
    {
     "name": "stdout",
     "output_type": "stream",
     "text": [
      "OA工作台——流程管理——新建流程——搜索客房入住申请单\n"
     ]
    }
   ],
   "source": [
    "import re\n",
    "\n",
    "def extract_useful_answer(input_string):\n",
    "    pattern = re.compile(r'Helpful Answer:\\s*(.*)', re.DOTALL)\n",
    "    match = pattern.search(input_string)\n",
    "\n",
    "    if match:\n",
    "        useful_answer = match.group(1)\n",
    "        return useful_answer\n",
    "    else:\n",
    "        return input_string\n",
    "\n",
    "input_string = result['result']\n",
    "# 提取有用的回答\n",
    "output = extract_useful_answer(input_string)\n",
    "print(output)"
   ]
  },
  {
   "cell_type": "markdown",
   "id": "9ee867ea-2680-4298-b778-51f22188783e",
   "metadata": {},
   "source": [
    "# 构建prompt"
   ]
  },
  {
   "cell_type": "code",
   "execution_count": 52,
   "id": "b2c7f36c-e8c7-4abf-8aaf-6d6c3669cfe9",
   "metadata": {
    "execution": {
     "iopub.execute_input": "2023-12-02T04:42:10.203558Z",
     "iopub.status.busy": "2023-12-02T04:42:10.203558Z",
     "iopub.status.idle": "2023-12-02T04:42:10.210709Z",
     "shell.execute_reply": "2023-12-02T04:42:10.209882Z",
     "shell.execute_reply.started": "2023-12-02T04:42:10.203558Z"
    },
    "tags": []
   },
   "outputs": [],
   "source": [
    "from langchain.prompts import PromptTemplate\n",
    "\n",
    "# Build prompt\n",
    "template = \"\"\"使用以下内容回答最后的问题。如果你不知道答案，就说你不知道，不要试图编造答案。在回答的最后一定要说\"感谢您的提问！\"\n",
    "{context}\n",
    "问题：{question}\n",
    "有用的回答：\"\"\"\n",
    "QA_CHAIN_PROMPT = PromptTemplate.from_template(template)"
   ]
  },
  {
   "cell_type": "code",
   "execution_count": 53,
   "id": "d0c69567-a4dc-4bff-9227-b29872aca85a",
   "metadata": {
    "execution": {
     "iopub.execute_input": "2023-12-02T04:42:11.069842Z",
     "iopub.status.busy": "2023-12-02T04:42:11.069842Z",
     "iopub.status.idle": "2023-12-02T04:42:11.083050Z",
     "shell.execute_reply": "2023-12-02T04:42:11.082480Z",
     "shell.execute_reply.started": "2023-12-02T04:42:11.069842Z"
    },
    "tags": []
   },
   "outputs": [],
   "source": [
    "# Run chain\n",
    "qa_chain1 = RetrievalQA.from_chain_type(\n",
    "    llm,\n",
    "    retriever=vector_db.as_retriever(),\n",
    "    return_source_documents=True,\n",
    "    chain_type_kwargs={\"prompt\": QA_CHAIN_PROMPT}\n",
    ")"
   ]
  },
  {
   "cell_type": "code",
   "execution_count": 54,
   "id": "e1861004-0581-4b0a-9e06-fed5d7a8f82b",
   "metadata": {
    "collapsed": true,
    "execution": {
     "iopub.execute_input": "2023-12-02T04:42:12.686962Z",
     "iopub.status.busy": "2023-12-02T04:42:12.686962Z",
     "iopub.status.idle": "2023-12-02T04:42:17.191072Z",
     "shell.execute_reply": "2023-12-02T04:42:17.191072Z",
     "shell.execute_reply.started": "2023-12-02T04:42:12.686962Z"
    },
    "jupyter": {
     "outputs_hidden": true
    },
    "tags": []
   },
   "outputs": [
    {
     "name": "stdout",
     "output_type": "stream",
     "text": [
      "大语言模型的回答为：\n",
      "使用以下内容回答最后的问题。如果你不知道答案，就说你不知道，不要试图编造答案。在回答的最后一定要说\"感谢您的提问！\"\n",
      "财务\n",
      "\n",
      "财务常见问题及解决\n",
      "\n",
      "1、厂区内出差客房入住申请单在哪里填写？\n",
      "\n",
      "OA工作台——流程管理——新建流程——搜索客房入住申请单\n",
      "\n",
      "2、对公付款（OA）在哪里填写付款申请书？\n",
      "\n",
      "OA工作台——报销管理——新建流程——搜索电动汽车：\n",
      "\n",
      "报销付款选择电动汽车电池的付款申请书；\n",
      "\n",
      "每个月绑定公司银行卡自动扣款的，待回票后要提交销账单流程，其他的都要选择付款申请书；\n",
      "\n",
      "28、业务招待费需要什么附件？\n",
      "\n",
      "业务招待费需要上传并打印支付记录或者点餐记录。\n",
      "\n",
      "29、酒店住宿需要什么附件？\n",
      "\n",
      "住宿费需要上传发票和住宿账单\n",
      "\n",
      "30、部门经费标准是什么？\n",
      "\n",
      "日常的部门经费是人力资源发布的标准，每个月固定金额，特殊的部门经费则需要写请示并上传。\n",
      "\n",
      "31、出差发生的核酸检测可以报销吗？\n",
      "\n",
      "核酸检测报销需要提供门诊收费的票据或者公司抬头的发票，费用类型选择：福利体检。\n",
      "\n",
      "34、公文请示在哪里写？\n",
      "\n",
      "在OA——公文管理——请示，请示会签到哪里，具体参考财务权限审批表。\n",
      "\n",
      "35、费用报销超时，显示无法提交单据怎么办？\n",
      "\n",
      "目前公司的报销制度规定，出差结束后两个月内必须完成线上提交与线下打印纸质单提交到财务处扫描签收。如果超时则无法提交，需要写请示，会签到会计与财务经理，然后提交IT申报，IT查验领导同意的请示后，打开相应的权限，方可提交。\n",
      "\n",
      "18、报销单超时，无法提交单据怎么办？\n",
      "\n",
      "出差后两个月内完成线上提单与线下提交纸质单的操作；超时的话系统无法提交单据，需写请示方可报销: 在OA——公文管理——请示，请示会签到部门总经理和财务经理；再提IT申报，IT看到请示通过才打开提交权限；\n",
      "\n",
      "19、私车公用怎么添加里程？\n",
      "问题：厂区内出差客房入住申请单在哪里填写？\n",
      "有用的回答： 您可以在OA工作台——流程管理——新建流程——搜索客房入住申请单来填写厂区内出差客房入住申请单。\n",
      "\n",
      "感谢您的提问！\n"
     ]
    }
   ],
   "source": [
    "question = \"厂区内出差客房入住申请单在哪里填写？\"\n",
    "result = qa_chain1({\"query\": question})\n",
    "print(f\"大语言模型的回答为：\\n{result['result']}\")"
   ]
  },
  {
   "cell_type": "code",
   "execution_count": 55,
   "id": "02e844cb-3a0b-491e-8935-fddeb6993535",
   "metadata": {
    "execution": {
     "iopub.execute_input": "2023-12-02T04:42:44.706547Z",
     "iopub.status.busy": "2023-12-02T04:42:44.706547Z",
     "iopub.status.idle": "2023-12-02T04:42:44.712705Z",
     "shell.execute_reply": "2023-12-02T04:42:44.712425Z",
     "shell.execute_reply.started": "2023-12-02T04:42:44.706547Z"
    },
    "tags": []
   },
   "outputs": [
    {
     "name": "stdout",
     "output_type": "stream",
     "text": [
      "您可以在OA工作台——流程管理——新建流程——搜索客房入住申请单来填写厂区内出差客房入住申请单。\n",
      "\n",
      "感谢您的提问！\n"
     ]
    }
   ],
   "source": [
    "import re\n",
    "\n",
    "def extract_useful_answer(input_string):\n",
    "    pattern = re.compile(r'有用的回答：\\s*(.*)', re.DOTALL)\n",
    "    match = pattern.search(input_string)\n",
    "\n",
    "    if match:\n",
    "        useful_answer = match.group(1)\n",
    "        return useful_answer\n",
    "    else:\n",
    "        return input_string\n",
    "\n",
    "input_string = result['result']\n",
    "# 提取有用的回答\n",
    "output = extract_useful_answer(input_string)\n",
    "print(output)"
   ]
  },
  {
   "cell_type": "code",
   "execution_count": null,
   "id": "1c9ca6bb-63f4-4971-b8fe-563507d88192",
   "metadata": {},
   "outputs": [],
   "source": []
  }
 ],
 "metadata": {
  "kernelspec": {
   "display_name": "chat-env",
   "language": "python",
   "name": "chat-env"
  },
  "language_info": {
   "codemirror_mode": {
    "name": "ipython",
    "version": 3
   },
   "file_extension": ".py",
   "mimetype": "text/x-python",
   "name": "python",
   "nbconvert_exporter": "python",
   "pygments_lexer": "ipython3",
   "version": "3.10.13"
  }
 },
 "nbformat": 4,
 "nbformat_minor": 5
}
