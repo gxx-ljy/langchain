{
 "cells": [
  {
   "cell_type": "markdown",
   "id": "c1721e1d-20c4-40eb-8e2e-3309bdcb5ea0",
   "metadata": {},
   "source": [
    "# 加载pdf"
   ]
  },
  {
   "cell_type": "code",
   "execution_count": 1,
   "id": "b1240189-8061-46b9-9d35-3c02d8489c96",
   "metadata": {
    "execution": {
     "iopub.execute_input": "2023-11-30T10:20:03.418351Z",
     "iopub.status.busy": "2023-11-30T10:20:03.417345Z",
     "iopub.status.idle": "2023-11-30T10:21:14.212681Z",
     "shell.execute_reply": "2023-11-30T10:21:14.212681Z",
     "shell.execute_reply.started": "2023-11-30T10:20:03.418351Z"
    },
    "tags": []
   },
   "outputs": [],
   "source": [
    "from langchain.document_loaders import UnstructuredPDFLoader\n",
    "\n",
    "loader = UnstructuredPDFLoader(\"深度学习从0到1-基于Tensorflow2.pdf\")\n",
    "pages = loader.load()"
   ]
  },
  {
   "cell_type": "markdown",
   "id": "32affc9c-99a4-48c8-b0d5-f50936b96a30",
   "metadata": {},
   "source": [
    "# 分割文档"
   ]
  },
  {
   "cell_type": "code",
   "execution_count": 2,
   "id": "d0d0415e-4ed5-4941-a319-f9bdb046f942",
   "metadata": {
    "execution": {
     "iopub.execute_input": "2023-11-30T10:21:14.241722Z",
     "iopub.status.busy": "2023-11-30T10:21:14.241722Z",
     "iopub.status.idle": "2023-11-30T10:21:14.500867Z",
     "shell.execute_reply": "2023-11-30T10:21:14.500867Z",
     "shell.execute_reply.started": "2023-11-30T10:21:14.241722Z"
    },
    "tags": []
   },
   "outputs": [],
   "source": [
    "from langchain.text_splitter import RecursiveCharacterTextSplitter\n",
    "\n",
    "text_splitter = RecursiveCharacterTextSplitter(chunk_size=500, chunk_overlap=50)\n",
    "split_docs1 = text_splitter.split_documents(pages)"
   ]
  },
  {
   "cell_type": "markdown",
   "id": "93a63887-0f79-4c4e-8d21-ac4eebf27065",
   "metadata": {},
   "source": [
    "# 连接数据库"
   ]
  },
  {
   "cell_type": "markdown",
   "id": "48acad39-7e52-43d2-9e16-04c349fc9993",
   "metadata": {},
   "source": [
    "## 方式一：建新表，插入数据"
   ]
  },
  {
   "cell_type": "code",
   "execution_count": 3,
   "id": "1f0fbc09-747d-44fc-a4d9-fa8b5a49cc2c",
   "metadata": {
    "execution": {
     "iopub.execute_input": "2023-11-30T10:21:25.377530Z",
     "iopub.status.busy": "2023-11-30T10:21:25.377530Z",
     "iopub.status.idle": "2023-11-30T10:21:26.783818Z",
     "shell.execute_reply": "2023-11-30T10:21:26.783237Z",
     "shell.execute_reply.started": "2023-11-30T10:21:25.377530Z"
    },
    "tags": []
   },
   "outputs": [],
   "source": [
    "from langchain.embeddings.huggingface import HuggingFaceEmbeddings\n",
    "\n",
    "embedding = HuggingFaceEmbeddings(model_name=\"../../model/m3e-base\")"
   ]
  },
  {
   "cell_type": "code",
   "execution_count": 4,
   "id": "69596540-62b1-4ac3-9153-3fd4c35c2438",
   "metadata": {
    "execution": {
     "iopub.execute_input": "2023-11-30T10:21:32.747665Z",
     "iopub.status.busy": "2023-11-30T10:21:32.747665Z",
     "iopub.status.idle": "2023-11-30T10:21:57.820976Z",
     "shell.execute_reply": "2023-11-30T10:21:57.820976Z",
     "shell.execute_reply.started": "2023-11-30T10:21:32.747665Z"
    },
    "tags": []
   },
   "outputs": [],
   "source": [
    "from langchain.vectorstores import Milvus\n",
    "vector_db = Milvus.from_documents(\n",
    "    split_docs1,\n",
    "    embedding,\n",
    "    collection_name=\"pdf_test\",\n",
    "    connection_args={\"host\": \"127.0.0.1\", \"port\": \"19530\"},\n",
    ")"
   ]
  },
  {
   "cell_type": "markdown",
   "id": "784e702c-9b9e-49a9-87d4-5ff1a86303e6",
   "metadata": {},
   "source": [
    "## 方式二：连接已有的表"
   ]
  },
  {
   "cell_type": "code",
   "execution_count": 5,
   "id": "c1e95373-78f6-4e13-87fa-2c182a0ebecb",
   "metadata": {
    "execution": {
     "iopub.execute_input": "2023-11-30T10:22:47.492573Z",
     "iopub.status.busy": "2023-11-30T10:22:47.491422Z",
     "iopub.status.idle": "2023-11-30T10:22:48.078821Z",
     "shell.execute_reply": "2023-11-30T10:22:48.078214Z",
     "shell.execute_reply.started": "2023-11-30T10:22:47.492343Z"
    },
    "tags": []
   },
   "outputs": [],
   "source": [
    "from langchain.embeddings.huggingface import HuggingFaceEmbeddings\n",
    "from langchain.vectorstores import Milvus\n",
    "\n",
    "vector_db = Milvus(\n",
    "    embedding_function = HuggingFaceEmbeddings(model_name=\"../../model/m3e-base\"),\n",
    "    connection_args={\"host\": \"127.0.0.1\", \"port\": \"19530\"},\n",
    "    collection_name=\"pdf_test\",\n",
    ")"
   ]
  },
  {
   "cell_type": "markdown",
   "id": "fa714cf1-2b73-4bff-834d-c706bfd8f507",
   "metadata": {},
   "source": [
    "# 检索"
   ]
  },
  {
   "cell_type": "code",
   "execution_count": 7,
   "id": "8dc26a26-605f-412b-927a-9f9941f5dd17",
   "metadata": {
    "execution": {
     "iopub.execute_input": "2023-11-30T10:23:51.184459Z",
     "iopub.status.busy": "2023-11-30T10:23:51.183614Z",
     "iopub.status.idle": "2023-11-30T10:23:51.249509Z",
     "shell.execute_reply": "2023-11-30T10:23:51.247912Z",
     "shell.execute_reply.started": "2023-11-30T10:23:51.184459Z"
    },
    "tags": []
   },
   "outputs": [
    {
     "name": "stdout",
     "output_type": "stream",
     "text": [
      "page_content='机器学习的算法有很多，下面给大家简单介绍一些机器学习中常用的算法。\\n\\n决策树（Decision Tree） —— 决策树是一种简单但又使用广泛的监督学习分类算\\n\\n法。它是一种分而治之的决策过程，把一个复杂的预测问题，通过树的分支节点，划分成两\\n\\n个或多个较为简单的子集，从结构上划分为不同的子问题。当分支节点满足一定停止规则\\n\\n时，该分支节点就会停止分叉，得到分类结果。比如一颗女生去相亲的简单决策树如图 1.6\\n\\n所示。\\n\\n图 1.6 决策树(Decision Tree)\\n\\n26\\n\\n免费人工智能慕课平台 AI MOOC：mooc.ai-xlab.com\\n\\n线性回归（Linear Regreesion） —— 线性回归是一种监督学习的算法。在线性回归\\n\\n中，数据使用线性预测函数来建模，模型建立好之后可以用来预测未知的值。也就是可以根\\n\\n据现在，预测未来。举个例子，假入我们有一组房屋面积跟房屋价格的数据，我们可以利用\\n\\n这些数据来建立回归模型，如图 1.7 所示。\\n\\n图 1.7 线性回归(Linear Regreesion)' metadata={'source': '深度学习从0到1-基于Tensorflow2.pdf'}\n",
      "page_content=\"预测被 mask 的 token model = build_transformer_model(config_path, checkpoint_path, with_mlm=True) # 分词并转化为编码 token_ids, segment_ids = tokenizer.encode('机器学习是一门交叉学科') # 把“学”字和“习”字变成“[MASK]”符号 token_ids[3] = token_ids[4] = tokenizer._token_dict['[MASK]'] # 增加一个维度表示批次大小为 1 token_ids = np.expand_dims(token_ids,axis=0) # 增加一个维度表示批次大小为 1 segment_ids = np.expand_dims(segment_ids,axis=0) # 传入模型进行预测 pre = model.predict([token_ids, segment_ids])[0] # 我们可以看到第 3，4 个位置经过模型预测，[MASK]变成了“学习”\" metadata={'source': '深度学习从0到1-基于Tensorflow2.pdf'}\n",
      "page_content='683\\n\\n免费人工智能慕课平台 AI MOOC：mooc.ai-xlab.com # 传入 loss 和模型参数，计算判别器的权值调整 gradients_of_discriminator = disc_tape.gradient(disc_loss, discriminator.trainable_variabl es) # 生成器的权值调整 generator_optimizer.apply_gradients(zip(gradients_of_generator, generator.trainable_var iables)) # 判别器的权值调整 discriminator_optimizer.apply_gradients(zip(gradients_of_discriminator, discriminator.trai nable_variables))' metadata={'source': '深度学习从0到1-基于Tensorflow2.pdf'}\n"
     ]
    }
   ],
   "source": [
    "question =  \"机器学习\"\n",
    "sim_docs = vector_db.similarity_search(question , k=3)\n",
    "context = ''\n",
    "for i, sim_doc in enumerate(sim_docs):\n",
    "    print(sim_docs[i])"
   ]
  },
  {
   "cell_type": "code",
   "execution_count": 8,
   "id": "e349633a-87ae-49a4-9924-ffbdfad149b0",
   "metadata": {
    "execution": {
     "iopub.execute_input": "2023-11-30T10:24:14.520186Z",
     "iopub.status.busy": "2023-11-30T10:24:14.520186Z",
     "iopub.status.idle": "2023-11-30T10:24:14.528604Z",
     "shell.execute_reply": "2023-11-30T10:24:14.528442Z",
     "shell.execute_reply.started": "2023-11-30T10:24:14.520186Z"
    },
    "tags": []
   },
   "outputs": [
    {
     "data": {
      "text/plain": [
       "[Document(page_content='机器学习的算法有很多，下面给大家简单介绍一些机器学习中常用的算法。\\n\\n决策树（Decision Tree） —— 决策树是一种简单但又使用广泛的监督学习分类算\\n\\n法。它是一种分而治之的决策过程，把一个复杂的预测问题，通过树的分支节点，划分成两\\n\\n个或多个较为简单的子集，从结构上划分为不同的子问题。当分支节点满足一定停止规则\\n\\n时，该分支节点就会停止分叉，得到分类结果。比如一颗女生去相亲的简单决策树如图 1.6\\n\\n所示。\\n\\n图 1.6 决策树(Decision Tree)\\n\\n26\\n\\n免费人工智能慕课平台 AI MOOC：mooc.ai-xlab.com\\n\\n线性回归（Linear Regreesion） —— 线性回归是一种监督学习的算法。在线性回归\\n\\n中，数据使用线性预测函数来建模，模型建立好之后可以用来预测未知的值。也就是可以根\\n\\n据现在，预测未来。举个例子，假入我们有一组房屋面积跟房屋价格的数据，我们可以利用\\n\\n这些数据来建立回归模型，如图 1.7 所示。\\n\\n图 1.7 线性回归(Linear Regreesion)', metadata={'source': '深度学习从0到1-基于Tensorflow2.pdf'}),\n",
       " Document(page_content=\"预测被 mask 的 token model = build_transformer_model(config_path, checkpoint_path, with_mlm=True) # 分词并转化为编码 token_ids, segment_ids = tokenizer.encode('机器学习是一门交叉学科') # 把“学”字和“习”字变成“[MASK]”符号 token_ids[3] = token_ids[4] = tokenizer._token_dict['[MASK]'] # 增加一个维度表示批次大小为 1 token_ids = np.expand_dims(token_ids,axis=0) # 增加一个维度表示批次大小为 1 segment_ids = np.expand_dims(segment_ids,axis=0) # 传入模型进行预测 pre = model.predict([token_ids, segment_ids])[0] # 我们可以看到第 3，4 个位置经过模型预测，[MASK]变成了“学习”\", metadata={'source': '深度学习从0到1-基于Tensorflow2.pdf'}),\n",
       " Document(page_content='683\\n\\n免费人工智能慕课平台 AI MOOC：mooc.ai-xlab.com # 传入 loss 和模型参数，计算判别器的权值调整 gradients_of_discriminator = disc_tape.gradient(disc_loss, discriminator.trainable_variabl es) # 生成器的权值调整 generator_optimizer.apply_gradients(zip(gradients_of_generator, generator.trainable_var iables)) # 判别器的权值调整 discriminator_optimizer.apply_gradients(zip(gradients_of_discriminator, discriminator.trai nable_variables))', metadata={'source': '深度学习从0到1-基于Tensorflow2.pdf'})]"
      ]
     },
     "execution_count": 8,
     "metadata": {},
     "output_type": "execute_result"
    }
   ],
   "source": [
    "sim_docs"
   ]
  },
  {
   "cell_type": "code",
   "execution_count": null,
   "id": "6017267b-aeb4-4784-81aa-742e117e941b",
   "metadata": {},
   "outputs": [],
   "source": []
  }
 ],
 "metadata": {
  "kernelspec": {
   "display_name": "chat-env",
   "language": "python",
   "name": "chat-env"
  },
  "language_info": {
   "codemirror_mode": {
    "name": "ipython",
    "version": 3
   },
   "file_extension": ".py",
   "mimetype": "text/x-python",
   "name": "python",
   "nbconvert_exporter": "python",
   "pygments_lexer": "ipython3",
   "version": "3.10.13"
  }
 },
 "nbformat": 4,
 "nbformat_minor": 5
}
